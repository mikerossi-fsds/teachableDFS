{
 "cells": [
  {
   "cell_type": "markdown",
   "id": "b2607aeb",
   "metadata": {},
   "source": [
    "## Model Building Part II\n",
    "\n",
    "This notebook is associated with the lesson titled **Model Building Part II** in the Model Building. In this notebook we perform the following tasks:\n",
    "\n",
    "    - Verify the feature space generators are working correctly"
   ]
  },
  {
   "cell_type": "code",
   "execution_count": null,
   "id": "697bd2c5",
   "metadata": {},
   "outputs": [],
   "source": [
    "import os\n",
    "import sys\n",
    "\n",
    "from os.path import expanduser\n",
    "\n",
    "# add path to directory that contains web.py to system\n",
    "sys.path.insert(0, os.path.join(expanduser(\"~\"), \"teachdfs\"))\n",
    "\n",
    "from model import QuarterbackFeatureSpaceTable, PositionPlayerFeatureSpaceTable, DefenseFeatureSpaceTable\n"
   ]
  },
  {
   "cell_type": "code",
   "execution_count": null,
   "id": "66c90560",
   "metadata": {
    "scrolled": false
   },
   "outputs": [],
   "source": [
    "seasons = [2018, 2019, 2020]\n",
    "qb_featurespace    = QuarterbackFeatureSpaceTable(seasons=seasons)\n",
    "pl_featurespace    = PositionPlayerFeatureSpaceTable(seasons=seasons)\n",
    "df_featurespace    = DefenseFeatureSpaceTable(seasons=seasons)"
   ]
  },
  {
   "cell_type": "code",
   "execution_count": null,
   "id": "5d03249e",
   "metadata": {},
   "outputs": [],
   "source": []
  }
 ],
 "metadata": {
  "kernelspec": {
   "display_name": "Python 3",
   "language": "python",
   "name": "python3"
  },
  "language_info": {
   "codemirror_mode": {
    "name": "ipython",
    "version": 3
   },
   "file_extension": ".py",
   "mimetype": "text/x-python",
   "name": "python",
   "nbconvert_exporter": "python",
   "pygments_lexer": "ipython3",
   "version": "3.8.5"
  }
 },
 "nbformat": 4,
 "nbformat_minor": 5
}
