{
 "cells": [
  {
   "cell_type": "markdown",
   "id": "64a2e19e",
   "metadata": {},
   "source": [
    "## Data Manipulation and Storage Part I\n",
    "\n",
    "This notebook is associated with the lesson titled **Data Manipulation and Storage Part II** in the Data Analysis and Storage Module. In this notebook we perform the following tasks:\n",
    "\n",
    "    - Set up our environment so we can load pickle files\n",
    "    - Test out components from the OffensiveTeamTable\n",
    "    - Execute the OffensiveTeamTable and DefensiveTeamTable"
   ]
  },
  {
   "cell_type": "code",
   "execution_count": null,
   "id": "11d8f495",
   "metadata": {},
   "outputs": [],
   "source": [
    "import os\n",
    "import pickle\n",
    "import sys\n",
    "import pandas as pd\n",
    "from tqdm import tqdm\n",
    "\n",
    "from os.path import expanduser\n",
    "\n",
    "# add path to directory that contains web.py to system\n",
    "sys.path.insert(0, os.path.join(expanduser(\"~\"), \"teachdfs\"))\n",
    "\n",
    "from data import OffenseTeamTable, DefenseTeamTable\n",
    "from config import CACHE_DIRECTORY\n",
    "from maps import team_map_inv\n"
   ]
  },
  {
   "cell_type": "code",
   "execution_count": null,
   "id": "be5eeb62",
   "metadata": {},
   "outputs": [],
   "source": [
    "# cycle through seasons\n",
    "season = \"2018\"\n",
    "\n",
    "# path to pickle data\n",
    "scores_path = os.path.join(CACHE_DIRECTORY, f\"{season}_box.pkl\")\n",
    "\n",
    "with open(scores_path, \"rb\") as input_file:\n",
    "    all_scores = pickle.load(input_file)\n",
    "    "
   ]
  },
  {
   "cell_type": "markdown",
   "id": "4fb8a9ab",
   "metadata": {},
   "source": [
    "## Test Components From OffenseTeamTable"
   ]
  },
  {
   "cell_type": "code",
   "execution_count": null,
   "id": "3b05dc04",
   "metadata": {},
   "outputs": [],
   "source": [
    "def team_records_from_boxscore(fbs):\n",
    "    \"\"\" Takes a boxscore, generates a dataframe such that the rows correspond to teams and the columns contain \n",
    "    stats related to team offensive performance. Returns the dataframe. \"\"\"\n",
    "    # Row 1\n",
    "    home_stats_df = fbs.all_team_stats['home_stat'].copy()\n",
    "    home_stats_df['team'] = team_map_inv[fbs.scorebox['home_team']]\n",
    "    home_stats_df['date'] = pd.Timestamp(fbs.scorebox['date'])\n",
    "    home_stats_df['opp'] = team_map_inv[fbs.scorebox['away_team']]\n",
    "    # Row 2\n",
    "    vis_stats_df = fbs.all_team_stats['vis_stat'].copy()\n",
    "    vis_stats_df['team'] = team_map_inv[fbs.scorebox['away_team']]\n",
    "    vis_stats_df['date'] = pd.Timestamp(fbs.scorebox['date'])\n",
    "    vis_stats_df['opp'] = team_map_inv[fbs.scorebox['home_team']]\n",
    "    table = pd.concat([home_stats_df, vis_stats_df], axis=1).T\n",
    "    return table"
   ]
  },
  {
   "cell_type": "code",
   "execution_count": null,
   "id": "ddc74a30",
   "metadata": {},
   "outputs": [],
   "source": [
    "team_records_from_boxscore(all_scores[0])"
   ]
  },
  {
   "cell_type": "code",
   "execution_count": null,
   "id": "e545f1ec",
   "metadata": {},
   "outputs": [],
   "source": [
    "team_records = []\n",
    "for fbs in tqdm(all_scores):\n",
    "    team_records.append(team_records_from_boxscore(fbs))"
   ]
  },
  {
   "cell_type": "code",
   "execution_count": null,
   "id": "3125a9f1",
   "metadata": {},
   "outputs": [],
   "source": [
    "def build_team_table(team_table):\n",
    "    \"\"\" Takes a dataframe of home and away team stats. Cleans up time-related columns and splits up compound\n",
    "    columns. Returns the new dataframe. \"\"\"\n",
    "\n",
    "    team_table[\"Time of Possession\"] = team_table[\"Time of Possession\"].apply(\n",
    "        lambda x: float(x.split(\":\")[0]) + float(x.split(\":\")[1]) / 60\n",
    "    )\n",
    "    t1 = team_table[\"Cmp-Att-Yd-TD-INT\"].apply(\n",
    "        lambda x: pd.Series(dict(zip([\"pass_cmp\", \"pass_att\", \"pass_yd\", \"pass_td\", \"pass_int\"], x.split(\"-\"))))\n",
    "    )\n",
    "    t2 = team_table[\"Fourth Down Conv.\"].apply(\n",
    "        lambda x: pd.Series(dict(zip([\"fouth_conv_succ\", \"fouth_conv_att\"],x.split(\"-\"))))\n",
    "    )\n",
    "    t3 = team_table[\"Fumbles-Lost\"].apply(\n",
    "        lambda x: pd.Series(dict(zip([\"fumbles\", \"fumbles_lost\"], x.split(\"-\"))))\n",
    "    )\n",
    "    t4 = team_table[\"Penalties-Yards\"].apply(\n",
    "        lambda x: pd.Series(dict(zip([\"penalty_count\", \"penalty_yds\"],x.split(\"-\"))))\n",
    "    )\n",
    "    t5 = team_table[\"Rush-Yds-TDs\"].apply(\n",
    "        lambda x: pd.Series(dict(zip([\"rush_att\", \"rush_yds\", \"rush_tds\"], x.split(\"-\"))))\n",
    "    )\n",
    "    t6 = team_table[\"Sacked-Yards\"].apply(\n",
    "        lambda x: pd.Series(dict(zip([\"sacks_allowed\", \"sacks_allowed_yds\"], x.split(\"-\"))))\n",
    "    )\n",
    "    t7 = team_table[\"Third Down Conv.\"].apply(\n",
    "        lambda x: pd.Series(dict(zip([\"third_conv_succ\", \"third_conv_att\"], x.split(\"-\"))))\n",
    "    )\n",
    "    t8 = team_table[\n",
    "        [\"First Downs\", \"Net Pass Yards\", \"Time of Possession\", 'Total Yards', 'Turnovers', 'team', 'date', 'opp']\n",
    "    ]\n",
    "    \n",
    "    return pd.concat([t1, t2, t3, t4, t5, t6, t7, t8], axis=1)"
   ]
  },
  {
   "cell_type": "code",
   "execution_count": null,
   "id": "665894cc",
   "metadata": {},
   "outputs": [],
   "source": [
    "table_df = build_team_table(pd.concat(team_records))"
   ]
  },
  {
   "cell_type": "code",
   "execution_count": null,
   "id": "3472a6a4",
   "metadata": {},
   "outputs": [],
   "source": [
    "table_df"
   ]
  },
  {
   "cell_type": "markdown",
   "id": "681d459a",
   "metadata": {},
   "source": [
    "## Test OffenseTeamTable"
   ]
  },
  {
   "cell_type": "code",
   "execution_count": null,
   "id": "d216bfb8",
   "metadata": {},
   "outputs": [],
   "source": [
    "# cycle through seasons\n",
    "for season in {\"2018\", \"2019\", \"2020\"}:\n",
    "\n",
    "    # path to pickle data\n",
    "    scores_path = os.path.join(CACHE_DIRECTORY, f\"{season}_box.pkl\")\n",
    "\n",
    "    with open(scores_path, \"rb\") as input_file:\n",
    "        all_scores = pickle.load(input_file)\n",
    "    \n",
    "    # process and cache OffenseTeamTable\n",
    "    OffenseTeamTable(season=season, refresh=True, boxscores=all_scores)"
   ]
  },
  {
   "cell_type": "code",
   "execution_count": null,
   "id": "fd8a66bd",
   "metadata": {
    "scrolled": false
   },
   "outputs": [],
   "source": [
    "# inspect cached data\n",
    "ott_2018 = OffenseTeamTable(season=2018)\n",
    "ott_2018.table"
   ]
  },
  {
   "cell_type": "markdown",
   "id": "ca423cec",
   "metadata": {},
   "source": [
    "## Test DefensiveTeamTable"
   ]
  },
  {
   "cell_type": "code",
   "execution_count": null,
   "id": "43e02de8",
   "metadata": {},
   "outputs": [],
   "source": [
    "# cycle through seasons\n",
    "for season in {\"2018\", \"2019\", \"2020\"}:\n",
    "\n",
    "    # path to pickle data\n",
    "    scores_path = os.path.join(CACHE_DIRECTORY, f\"{season}_box.pkl\")\n",
    "\n",
    "    with open(scores_path, \"rb\") as input_file:\n",
    "        all_scores = pickle.load(input_file)\n",
    "    \n",
    "    # process and cache OffenseTeamTable\n",
    "    DefenseTeamTable(season=season, refresh=True, boxscores=all_scores)"
   ]
  },
  {
   "cell_type": "code",
   "execution_count": null,
   "id": "85d76d90",
   "metadata": {},
   "outputs": [],
   "source": [
    "# inspect cached data\n",
    "dtt_2018 = DefenseTeamTable(season=2018)\n",
    "dtt_2018.table"
   ]
  },
  {
   "cell_type": "code",
   "execution_count": null,
   "id": "3c171ef6",
   "metadata": {},
   "outputs": [],
   "source": []
  }
 ],
 "metadata": {
  "kernelspec": {
   "display_name": "Python 3",
   "language": "python",
   "name": "python3"
  },
  "language_info": {
   "codemirror_mode": {
    "name": "ipython",
    "version": 3
   },
   "file_extension": ".py",
   "mimetype": "text/x-python",
   "name": "python",
   "nbconvert_exporter": "python",
   "pygments_lexer": "ipython3",
   "version": "3.8.5"
  }
 },
 "nbformat": 4,
 "nbformat_minor": 5
}
