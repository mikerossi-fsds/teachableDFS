{
 "cells": [
  {
   "cell_type": "markdown",
   "id": "64a2e19e",
   "metadata": {},
   "source": [
    "## Data Manipulation and Storage Part III\n",
    "\n",
    "This notebook is associated with the lesson titled **Data Manipulation and Storage Part III** in the Data Analysis and Storage Module. In this notebook we perform the following tasks:\n",
    "\n",
    "    - Refresh all tables from the data.py file with three years of data"
   ]
  },
  {
   "cell_type": "code",
   "execution_count": null,
   "id": "11d8f495",
   "metadata": {},
   "outputs": [],
   "source": [
    "import os\n",
    "import pickle\n",
    "import sys\n",
    "import pandas as pd\n",
    "from tqdm import tqdm\n",
    "\n",
    "from os.path import expanduser\n",
    "\n",
    "# add path to directory that contains web.py to system\n",
    "sys.path.insert(0, os.path.join(expanduser(\"~\"), \"teachdfs\"))\n",
    "\n",
    "from data import (\n",
    "    DefenseTeamTable, OffenseTeamTable, OffenseTable, AdvancedPassingTable,\n",
    "    AdvancedRushingTable, AdvancedReceivingTable, ScoreTable\n",
    ")\n",
    "from config import CACHE_DIRECTORY\n",
    "from maps import team_map_inv\n"
   ]
  },
  {
   "cell_type": "markdown",
   "id": "681d459a",
   "metadata": {},
   "source": [
    "## Refresh all Tables"
   ]
  },
  {
   "cell_type": "code",
   "execution_count": null,
   "id": "d216bfb8",
   "metadata": {},
   "outputs": [],
   "source": [
    "# cycle through seasons\n",
    "for season in {\"2018\", \"2019\", \"2020\"}:\n",
    "\n",
    "    # path to pickle data\n",
    "    scores_path = os.path.join(CACHE_DIRECTORY, f\"{season}_box.pkl\")\n",
    "\n",
    "    with open(scores_path, \"rb\") as input_file:\n",
    "        all_scores = pickle.load(input_file)\n",
    "    \n",
    "    # process and cache\n",
    "    DefenseTeamTable(season=season, refresh=True, boxscores=all_scores)\n",
    "    OffenseTeamTable(season=season, refresh=True, boxscores=all_scores)\n",
    "    OffenseTable(season=season, refresh=True, boxscores=all_scores)\n",
    "    AdvancedPassingTable(season=season, refresh=True, boxscores=all_scores)\n",
    "    AdvancedRushingTable(season=season, refresh=True, boxscores=all_scores)\n",
    "    AdvancedReceivingTable(season=season, refresh=True, boxscores=all_scores)\n",
    "    ScoreTable(season=season, refresh=True, boxscores=all_scores)"
   ]
  },
  {
   "cell_type": "code",
   "execution_count": null,
   "id": "fceb364e",
   "metadata": {},
   "outputs": [],
   "source": []
  }
 ],
 "metadata": {
  "kernelspec": {
   "display_name": "Python 3",
   "language": "python",
   "name": "python3"
  },
  "language_info": {
   "codemirror_mode": {
    "name": "ipython",
    "version": 3
   },
   "file_extension": ".py",
   "mimetype": "text/x-python",
   "name": "python",
   "nbconvert_exporter": "python",
   "pygments_lexer": "ipython3",
   "version": "3.8.5"
  }
 },
 "nbformat": 4,
 "nbformat_minor": 5
}
