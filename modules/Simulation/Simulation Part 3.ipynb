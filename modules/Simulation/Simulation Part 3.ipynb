{
 "cells": [
  {
   "cell_type": "markdown",
   "id": "b2607aeb",
   "metadata": {},
   "source": [
    "## Simulation Part 3\n",
    "\n",
    "This notebook is associated with the lesson titled **Simulation Part III** in the Simulation Module. In this notebook we perform the following tasks:\n",
    "\n",
    "    - Verify that the following tables are generated correctly\n",
    "        - BacktestLinksTable\n",
    "        - BacktestStandingsTable\n",
    "        - DoubleupStandingsTable\n",
    "        - BacktestPlayerPerformanceTable"
   ]
  },
  {
   "cell_type": "code",
   "execution_count": null,
   "id": "697bd2c5",
   "metadata": {},
   "outputs": [],
   "source": [
    "import os\n",
    "import sys\n",
    "\n",
    "from os.path import expanduser\n",
    "\n",
    "# add path to directory that contains web.py to system\n",
    "sys.path.insert(0, os.path.join(expanduser(\"~\"), \"teachdfs\"))\n",
    "\n",
    "from sim import BacktestLinksTable, BacktestStandingsTable, DoubleupStandingsTable, BacktestPlayerPerformanceTable\n"
   ]
  },
  {
   "cell_type": "code",
   "execution_count": null,
   "id": "66c90560",
   "metadata": {
    "scrolled": true
   },
   "outputs": [],
   "source": [
    "BacktestLinksTable(refresh=True)\n",
    "BLT = BacktestLinksTable(refresh=False)\n",
    "BLT.table\n"
   ]
  },
  {
   "cell_type": "code",
   "execution_count": null,
   "id": "41c0c8d2",
   "metadata": {},
   "outputs": [],
   "source": [
    "BacktestStandingsTable(refresh=True)\n",
    "BST = BacktestStandingsTable(refresh=False)\n",
    "BST.table\n"
   ]
  },
  {
   "cell_type": "code",
   "execution_count": null,
   "id": "5d03249e",
   "metadata": {
    "scrolled": true
   },
   "outputs": [],
   "source": [
    "DoubleupStandingsTable(refresh=True)\n",
    "DST = DoubleupStandingsTable(refresh=False)\n",
    "DST.table"
   ]
  },
  {
   "cell_type": "code",
   "execution_count": null,
   "id": "b6f9a87f",
   "metadata": {
    "scrolled": true
   },
   "outputs": [],
   "source": [
    "seasons=[2018, 2019, 2020]\n",
    "BacktestPlayerPerformanceTable(seasons=seasons, refresh=True)\n",
    "BPPT = BacktestPlayerPerformanceTable(seasons=seasons, refresh=False)\n",
    "BPPT.table"
   ]
  }
 ],
 "metadata": {
  "kernelspec": {
   "display_name": "Python 3",
   "language": "python",
   "name": "python3"
  },
  "language_info": {
   "codemirror_mode": {
    "name": "ipython",
    "version": 3
   },
   "file_extension": ".py",
   "mimetype": "text/x-python",
   "name": "python",
   "nbconvert_exporter": "python",
   "pygments_lexer": "ipython3",
   "version": "3.8.5"
  }
 },
 "nbformat": 4,
 "nbformat_minor": 5
}
