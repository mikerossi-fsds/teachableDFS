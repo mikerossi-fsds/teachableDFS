{
 "cells": [
  {
   "cell_type": "markdown",
   "id": "969bf111",
   "metadata": {},
   "source": [
    "## Simulation Part 2\n",
    "\n",
    "This notebook is associated with the lesson titled **Simulation Part II** in the Simulation Module. In this notebook we perform the following tasks:\n",
    "\n",
    "    - Verify the PayoutTable and HistoricalSalaryTable are working correctly"
   ]
  },
  {
   "cell_type": "code",
   "execution_count": null,
   "id": "38b54658",
   "metadata": {},
   "outputs": [],
   "source": [
    "import os\n",
    "import sys\n",
    "\n",
    "from os.path import expanduser\n",
    "\n",
    "# add path to directory that contains web.py to system\n",
    "sys.path.insert(0, os.path.join(expanduser(\"~\"), \"teachdfs\"))\n",
    "\n",
    "from sim import PayoutTable, HistoricalSalaryTable"
   ]
  },
  {
   "cell_type": "code",
   "execution_count": null,
   "id": "6dd0a3c0",
   "metadata": {},
   "outputs": [],
   "source": [
    "seasons = [2018, 2019, 2020]\n",
    "payoutTable = PayoutTable(refresh=True)\n",
    "historicalSalary = HistoricalSalaryTable(refresh=True, seasons=seasons)"
   ]
  },
  {
   "cell_type": "code",
   "execution_count": null,
   "id": "d7340997",
   "metadata": {},
   "outputs": [],
   "source": [
    "payoutTable.table.head()"
   ]
  },
  {
   "cell_type": "code",
   "execution_count": null,
   "id": "9fb293fe",
   "metadata": {},
   "outputs": [],
   "source": [
    "historicalSalary.table.head()"
   ]
  }
 ],
 "metadata": {
  "kernelspec": {
   "display_name": "Python 3",
   "language": "python",
   "name": "python3"
  },
  "language_info": {
   "codemirror_mode": {
    "name": "ipython",
    "version": 3
   },
   "file_extension": ".py",
   "mimetype": "text/x-python",
   "name": "python",
   "nbconvert_exporter": "python",
   "pygments_lexer": "ipython3",
   "version": "3.8.5"
  }
 },
 "nbformat": 4,
 "nbformat_minor": 5
}
