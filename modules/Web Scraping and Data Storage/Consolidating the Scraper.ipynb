{
 "cells": [
  {
   "cell_type": "markdown",
   "id": "2d11a02a",
   "metadata": {},
   "source": [
    "## Consolidating the Scraper\n",
    "\n",
    "This notebook is associated with the lesson titled **Consolidating the Scraper** in the Web Scraping and Data Storage Module. In this notebook we perform the following tasks:\n",
    "\n",
    "    - Automate data storage directory building\n",
    "    - Use our newly created class FootballBoxscore located in the web.py file"
   ]
  },
  {
   "cell_type": "code",
   "execution_count": null,
   "id": "a946b9c2",
   "metadata": {},
   "outputs": [],
   "source": [
    "import os\n",
    "import pickle\n",
    "import numpy as np\n",
    "import sys\n",
    "\n",
    "from tqdm import tqdm\n",
    "from os.path import expanduser\n",
    "\n",
    "# add path to directory that contains web.py to system\n",
    "sys.path.insert(0, os.path.join(expanduser(\"~\"), \"teachdfs\"))\n",
    "\n",
    "from web import FootballBoxscore, unique_game_links\n",
    "from config import CACHE_DIRECTORY"
   ]
  },
  {
   "cell_type": "code",
   "execution_count": null,
   "id": "5997e56f",
   "metadata": {},
   "outputs": [],
   "source": [
    "for season in {\"2018\", \"2019\", \"2020\"}:\n",
    "    links = unique_game_links(season)\n",
    "    all_scores = [FootballBoxscore(\"https://www.pro-football-reference.com/\" + link) for link in links]\n",
    "    \n",
    "    for fbs in tqdm(all_scores):\n",
    "        try: \n",
    "            fbs.full_scrape()\n",
    "        except AttributeError:\n",
    "            print(\"Advanced Table Not Found\")\n",
    "            break\n",
    "\n",
    "    # Cache the results\n",
    "    if not os.path.exists(CACHE_DIRECTORY):\n",
    "        os.makedirs(CACHE_DIRECTORY)\n",
    "    \n",
    "    data_path = os.path.join(CACHE_DIRECTORY, f\"{season}_box.pkl\")\n",
    "    pickle.dump(all_scores, open(data_path,'wb'))"
   ]
  }
 ],
 "metadata": {
  "kernelspec": {
   "display_name": "Python 3",
   "language": "python",
   "name": "python3"
  },
  "language_info": {
   "codemirror_mode": {
    "name": "ipython",
    "version": 3
   },
   "file_extension": ".py",
   "mimetype": "text/x-python",
   "name": "python",
   "nbconvert_exporter": "python",
   "pygments_lexer": "ipython3",
   "version": "3.8.5"
  }
 },
 "nbformat": 4,
 "nbformat_minor": 5
}
