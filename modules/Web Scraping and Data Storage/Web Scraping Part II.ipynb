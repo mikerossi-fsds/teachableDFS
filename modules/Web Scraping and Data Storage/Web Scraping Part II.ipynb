{
 "cells": [
  {
   "cell_type": "markdown",
   "id": "2f688074",
   "metadata": {},
   "source": [
    "## Web Scraping Part II\n",
    "\n",
    "This notebook is associated with the lesson titled **Introduction to Web Scraping Part 2** in the Web Scraping and Data Storage Module. In this notebook we perform the following tasks:\n",
    "\n",
    "    - Explore the output of extract_team_links\n",
    "    - Retrieve the URLs associated with each teams boxscore hyperlink\n",
    "    - Consolidate links to games during a season"
   ]
  },
  {
   "cell_type": "code",
   "execution_count": null,
   "id": "31335d6e",
   "metadata": {},
   "outputs": [],
   "source": [
    "# Imports\n",
    "import requests\n",
    "from bs4 import BeautifulSoup\n",
    "import numpy as np"
   ]
  },
  {
   "cell_type": "markdown",
   "id": "11763f3f",
   "metadata": {},
   "source": [
    "## Reviewing Output of extract_team_links"
   ]
  },
  {
   "cell_type": "code",
   "execution_count": null,
   "id": "0c1dd14d",
   "metadata": {},
   "outputs": [],
   "source": [
    "# copy of function created in the previous lesson\n",
    "def extract_team_links(year):\n",
    "    \"\"\"Takes a season year, requests the NFL Standings & Team Stats page for the given year and returns a list \n",
    "    of links to each season + team landing page. \"\"\"\n",
    "    \n",
    "    resp = requests.get(f\"https://www.pro-football-reference.com/years/{year}/\")\n",
    "    soup = BeautifulSoup(resp.text, 'html.parser')\n",
    "    nfc_div = soup.find(id=\"div_NFC\")\n",
    "    afc_div = soup.find(id=\"div_AFC\")\n",
    "    nfc_links = nfc_div.find_all('a')\n",
    "    afc_links = afc_div.find_all('a')\n",
    "    team_links = afc_links + nfc_links\n",
    "    return team_links\n"
   ]
  },
  {
   "cell_type": "code",
   "execution_count": null,
   "id": "dd4f003c",
   "metadata": {
    "scrolled": true
   },
   "outputs": [],
   "source": [
    "team_links = extract_team_links(year=2020)\n",
    "\n",
    "print(f\"Element: {team_links[0]}\")\n",
    "print(f\"Element Type: {type(team_links[0])}\")\n",
    "print(f\"Reference: {team_links[0]['href']}\")\n"
   ]
  },
  {
   "cell_type": "markdown",
   "id": "a5343069",
   "metadata": {},
   "source": [
    "## Retrive URLs from Boxscore Hyperlinks"
   ]
  },
  {
   "cell_type": "code",
   "execution_count": null,
   "id": "b1aa7f55",
   "metadata": {},
   "outputs": [],
   "source": [
    "sample_href = team_links[0][\"href\"]\n",
    "full_url = \"https://www.pro-football-reference.com\" + sample_href\n",
    "print(full_url)"
   ]
  },
  {
   "cell_type": "code",
   "execution_count": null,
   "id": "f8f5628e",
   "metadata": {},
   "outputs": [],
   "source": [
    "def extract_boxscore_links(team_season_overview_suffix):\n",
    "    \"\"\" Takes a string associated with a teams season overview url, requests access to the page and extracts all \n",
    "    hyperlink addresses associated with the boxscore hyperlinks. Returns a list of hyperlink suffix strings for\n",
    "    all of a team's games during a season. \"\"\"\n",
    "    \n",
    "    full_url = \"https://www.pro-football-reference.com\" + team_season_overview_suffix\n",
    "    resp = requests.get(full_url)\n",
    "    soup = BeautifulSoup(resp.text, 'html.parser')\n",
    "    link_elements = [a for a in soup.find_all(\"a\") if a.text == 'boxscore']\n",
    "    links = [l['href'] for l in link_elements]\n",
    "    return links"
   ]
  },
  {
   "cell_type": "code",
   "execution_count": null,
   "id": "e676e7b8",
   "metadata": {},
   "outputs": [],
   "source": [
    "links = extract_boxscore_links(team_season_overview_suffix=sample_href)\n",
    "links"
   ]
  },
  {
   "cell_type": "markdown",
   "id": "ab148c38",
   "metadata": {},
   "source": [
    "## Join Functions"
   ]
  },
  {
   "cell_type": "code",
   "execution_count": null,
   "id": "9fcaccf5",
   "metadata": {},
   "outputs": [],
   "source": [
    "def unique_game_links(year):\n",
    "    \"\"\" Takes a year. Extracts each team's season overview url. For each team extracts all associated games they\n",
    "    participated in during the season. Merges all game links and removes duplicates. Returns a list of url suffix\n",
    "    strings. \"\"\"\n",
    "    \n",
    "    all_boxscores = [extract_boxscore_links(url['href']) for url in extract_team_links(year)]\n",
    "    flattened_list = np.hstack([np.array(b) for b in all_boxscores])\n",
    "    unique_game_links = np.unique(flattened_list)\n",
    "    return unique_game_links"
   ]
  },
  {
   "cell_type": "code",
   "execution_count": null,
   "id": "c14f8af1",
   "metadata": {},
   "outputs": [],
   "source": [
    "links = unique_game_links(year=2020)\n",
    "links"
   ]
  }
 ],
 "metadata": {
  "kernelspec": {
   "display_name": "Python 3",
   "language": "python",
   "name": "python3"
  },
  "language_info": {
   "codemirror_mode": {
    "name": "ipython",
    "version": 3
   },
   "file_extension": ".py",
   "mimetype": "text/x-python",
   "name": "python",
   "nbconvert_exporter": "python",
   "pygments_lexer": "ipython3",
   "version": "3.8.5"
  }
 },
 "nbformat": 4,
 "nbformat_minor": 5
}
