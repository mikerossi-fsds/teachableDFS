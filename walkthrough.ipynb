{
 "cells": [
  {
   "cell_type": "markdown",
   "metadata": {},
   "source": [
    "# Web"
   ]
  },
  {
   "cell_type": "code",
   "execution_count": 1,
   "metadata": {},
   "outputs": [],
   "source": [
    "from web import FootballBoxscore, unique_game_links"
   ]
  },
  {
   "cell_type": "code",
   "execution_count": 9,
   "metadata": {},
   "outputs": [
    {
     "name": "stderr",
     "output_type": "stream",
     "text": [
      "100%|██████████| 695/695 [07:07<00:00,  1.62it/s]\n"
     ]
    }
   ],
   "source": [
    "links_2018 = unique_game_links(\"2018\")\n",
    "links_2019 = unique_game_links(\"2019\")\n",
    "links_2020 = unique_game_links(\"2020\")\n",
    "\n",
    "links = np.hstack([links_2018,links_2019,links_2020])\n",
    "all_scores = [ FootballBoxscore(\"https://www.pro-football-reference.com/\" + link) for link in links]\n",
    "for fbs in tqdm(all_scores):\n",
    "    try: \n",
    "        fbs.full_scrape()\n",
    "    except AttributeError:\n",
    "        print (\"Advanced Table Not Found\")\n",
    "        break\n",
    "        \n",
    "# In case you want to cache the results\n",
    "#import pickle\n",
    "#pickle.dump(all_scores, open(\"/home/tom/Cache/box.pkl\",'wb'))\n",
    "#all_scores = pickle.load(open(\"/home/tom/Cache/box.pkl\",'rb'))"
   ]
  },
  {
   "cell_type": "markdown",
   "metadata": {},
   "source": [
    "# Data"
   ]
  },
  {
   "cell_type": "code",
   "execution_count": 4,
   "metadata": {},
   "outputs": [],
   "source": [
    "from data import ScoreTable, OffenseTable, DefenseTeamTable, OffenseTeamTable\n",
    "from data import AdvancedPassingTable, AdvancedRecievingTable, AdvancedRushingTable "
   ]
  },
  {
   "cell_type": "code",
   "execution_count": 5,
   "metadata": {},
   "outputs": [
    {
     "name": "stderr",
     "output_type": "stream",
     "text": [
      "100%|██████████| 695/695 [00:00<00:00, 2465.98it/s]\n",
      "100%|██████████| 695/695 [00:04<00:00, 146.77it/s]\n",
      "100%|██████████| 695/695 [00:04<00:00, 159.07it/s]\n",
      "100%|██████████| 695/695 [00:04<00:00, 154.37it/s]\n",
      "100%|██████████| 695/695 [00:04<00:00, 157.91it/s]\n",
      "100%|██████████| 695/695 [00:04<00:00, 169.95it/s]\n",
      "100%|██████████| 695/695 [00:00<00:00, 2566.25it/s]\n",
      "100%|██████████| 695/695 [00:03<00:00, 176.03it/s]\n"
     ]
    }
   ],
   "source": [
    "# Feature space classes will get references to these, so make sure they are built\n",
    "score_table        = ScoreTable(refresh=True, boxscores=all_scores)\n",
    "offense_table      = OffenseTable(refresh=True, boxscores=all_scores)\n",
    "adv_passing_table  = AdvancedPassingTable(refresh=True, boxscores=all_scores)\n",
    "adv_recv_table     = AdvancedRecievingTable(refresh=True, boxscores=all_scores)\n",
    "adv_rush_table     = AdvancedRushingTable(refresh=True, boxscores=all_scores)\n",
    "defense_table      = DefenseTeamTable(refresh=True, boxscores=all_scores)\n",
    "offense_team_table = OffenseTeamTable(refresh=True, boxscores=all_scores)"
   ]
  },
  {
   "cell_type": "markdown",
   "metadata": {},
   "source": [
    "# Model"
   ]
  },
  {
   "cell_type": "code",
   "execution_count": 6,
   "metadata": {},
   "outputs": [
    {
     "name": "stderr",
     "output_type": "stream",
     "text": [
      "686it [00:09, 70.99it/s]\n",
      "6001it [01:41, 58.88it/s]\n",
      "672it [00:06, 104.01it/s]\n"
     ]
    }
   ],
   "source": [
    "from model import QuarterbackFeatureSpaceTable, PositionPlayerFeatureSpaceTable, DefenseFeatureSpaceTable\n",
    "qb_featurespace    = QuarterbackFeatureSpaceTable()\n",
    "pl_featurespace    = PositionPlayerFeatureSpaceTable()\n",
    "df_featurespace    = DefenseFeatureSpaceTable()"
   ]
  },
  {
   "cell_type": "markdown",
   "metadata": {},
   "source": [
    "# Simulation"
   ]
  },
  {
   "cell_type": "code",
   "execution_count": 1,
   "metadata": {},
   "outputs": [],
   "source": [
    "from sim import PayoutTable, BacktestLinksTable, HistoricalSalaryTable, BacktestStandingsTable\n",
    "from sim import BacktestPlayerPerformanceTable, BacktestPredictionsTable"
   ]
  },
  {
   "cell_type": "code",
   "execution_count": 4,
   "metadata": {
    "scrolled": true
   },
   "outputs": [
    {
     "name": "stderr",
     "output_type": "stream",
     "text": [
      "100%|██████████| 47/47 [00:13<00:00,  3.53it/s]\n",
      "10it [00:09,  1.08it/s]\n",
      "100%|██████████| 45/45 [00:11<00:00,  3.76it/s]\n",
      "10it [00:08,  1.17it/s]\n",
      "100%|██████████| 45/45 [00:11<00:00,  3.77it/s]\n",
      "10it [00:08,  1.18it/s]\n",
      "45it [00:00, 73.40it/s]\n",
      "380it [00:06, 60.37it/s]\n",
      "26it [00:00, 99.43it/s]\n",
      "43it [00:00, 72.77it/s]\n",
      "380it [00:06, 60.12it/s]\n",
      "26it [00:00, 98.17it/s] \n",
      "36it [00:00, 73.69it/s]\n",
      "322it [00:05, 59.19it/s]\n",
      "22it [00:00, 103.87it/s]\n",
      "44it [00:00, 75.96it/s]\n",
      "344it [00:05, 62.00it/s]\n",
      "24it [00:00, 104.97it/s]\n",
      "41it [00:00, 75.34it/s]\n",
      "308it [00:04, 62.62it/s]\n",
      "22it [00:00, 104.85it/s]\n",
      "43it [00:00, 75.55it/s]\n",
      "338it [00:05, 62.41it/s]\n",
      "24it [00:00, 104.78it/s]\n",
      "42it [00:00, 75.19it/s]\n",
      "346it [00:05, 62.66it/s]\n",
      "22it [00:00, 104.96it/s]\n",
      "40it [00:00, 75.20it/s]\n",
      "308it [00:04, 61.67it/s]\n",
      "22it [00:00, 103.26it/s]\n",
      "47it [00:00, 74.89it/s]\n",
      "349it [00:05, 61.54it/s]\n",
      "22it [00:00, 105.68it/s]\n",
      "41it [00:00, 74.23it/s]\n",
      "313it [00:05, 60.45it/s]\n",
      "22it [00:00, 103.20it/s]\n"
     ]
    }
   ],
   "source": [
    "payoutTable           = PayoutTable(refresh=True)\n",
    "backtestLinks         = BacktestLinksTable(refresh=True)\n",
    "historicalSalary      = HistoricalSalaryTable(refresh=True, max_week=13)\n",
    "historicalStandings   = BacktestStandingsTable(refresh=True)\n",
    "historicalPerformance = BacktestPlayerPerformanceTable(refresh=True)\n",
    "backtestPredictions   = BacktestPredictionsTable(refresh=True)"
   ]
  },
  {
   "cell_type": "markdown",
   "metadata": {},
   "source": [
    "# Double Up Backtest"
   ]
  },
  {
   "cell_type": "code",
   "execution_count": 2,
   "metadata": {},
   "outputs": [],
   "source": [
    "from sim import DoubleupStandingsTable"
   ]
  },
  {
   "cell_type": "code",
   "execution_count": 5,
   "metadata": {},
   "outputs": [
    {
     "name": "stderr",
     "output_type": "stream",
     "text": [
      "10it [00:08,  1.18it/s]\n"
     ]
    }
   ],
   "source": [
    "historicalPerformance = BacktestPlayerPerformanceTable(refresh=False)\n",
    "backtestPredictions   = BacktestPredictionsTable(refresh=False)\n",
    "doubleupStandings     = DoubleupStandingsTable(refresh=True)"
   ]
  },
  {
   "cell_type": "code",
   "execution_count": 6,
   "metadata": {},
   "outputs": [],
   "source": [
    "perf = historicalPerformance.table.copy()\n",
    "pred = backtestPredictions.table.reset_index().rename(columns={'level_0':'name', 'level_1':'week', \\\n",
    "                                                               'level_2':'year', 0:'pred'}).copy()\n",
    "btTable = perf.join(pred.set_index(['name','week','year']), on=['name','week','year'])\n",
    "btTable = btTable.dropna(subset=['DK salary'])\n",
    "btTable = btTable[~((btTable.FPTS == 0) & (btTable['Roster Position'] != \"DST\"))] # Don't start anyone thats out"
   ]
  },
  {
   "cell_type": "code",
   "execution_count": 7,
   "metadata": {},
   "outputs": [],
   "source": [
    "import numpy as np\n",
    "from tqdm import tqdm\n",
    "from sim import run_doubleup_backtest"
   ]
  },
  {
   "cell_type": "code",
   "execution_count": 9,
   "metadata": {
    "scrolled": true
   },
   "outputs": [
    {
     "name": "stderr",
     "output_type": "stream",
     "text": [
      "\r",
      "  0%|          | 0/10 [00:00<?, ?it/s]"
     ]
    },
    {
     "name": "stdout",
     "output_type": "stream",
     "text": [
      "5 1.2 240.0\n",
      "5 1.3 -400.0\n",
      "5 2.2 0.0\n",
      "5 2.3 -360.0\n",
      "5 3.2 -80.0\n"
     ]
    },
    {
     "name": "stderr",
     "output_type": "stream",
     "text": [
      "\r",
      " 40%|████      | 4/10 [00:07<00:10,  1.79s/it]"
     ]
    },
    {
     "name": "stdout",
     "output_type": "stream",
     "text": [
      "5 3.3 -160.0\n",
      "6 1.2 -400.0\n",
      "6 1.3 -400.0\n",
      "6 2.2 -400.0\n",
      "6 2.3 0.0\n",
      "6 3.2 -360.0\n"
     ]
    },
    {
     "name": "stderr",
     "output_type": "stream",
     "text": [
      "\r",
      " 50%|█████     | 5/10 [00:14<00:16,  3.36s/it]"
     ]
    },
    {
     "name": "stdout",
     "output_type": "stream",
     "text": [
      "6 3.3 -120.0\n",
      "7 1.2 400.0\n",
      "7 1.3 400.0\n",
      "7 2.2 320.0\n",
      "7 2.3 280.0\n",
      "7 3.2 160.0\n"
     ]
    },
    {
     "name": "stderr",
     "output_type": "stream",
     "text": [
      "\r",
      " 60%|██████    | 6/10 [00:21<00:18,  4.51s/it]"
     ]
    },
    {
     "name": "stdout",
     "output_type": "stream",
     "text": [
      "7 3.3 160.0\n",
      "8 1.2 -320.0\n",
      "8 1.3 -320.0\n",
      "8 2.2 -280.0\n",
      "8 2.3 -280.0\n",
      "8 3.2 -280.0\n"
     ]
    },
    {
     "name": "stderr",
     "output_type": "stream",
     "text": [
      "\r",
      " 70%|███████   | 7/10 [00:29<00:16,  5.50s/it]"
     ]
    },
    {
     "name": "stdout",
     "output_type": "stream",
     "text": [
      "8 3.3 -160.0\n",
      "9 1.2 400.0\n",
      "9 1.3 360.0\n",
      "9 2.2 320.0\n",
      "9 2.3 360.0\n",
      "9 3.2 280.0\n"
     ]
    },
    {
     "name": "stderr",
     "output_type": "stream",
     "text": [
      "\r",
      " 80%|████████  | 8/10 [00:36<00:12,  6.11s/it]"
     ]
    },
    {
     "name": "stdout",
     "output_type": "stream",
     "text": [
      "9 3.3 320.0\n",
      "10 1.2 400.0\n",
      "10 1.3 240.0\n",
      "10 2.2 400.0\n",
      "10 2.3 360.0\n",
      "10 3.2 320.0\n"
     ]
    },
    {
     "name": "stderr",
     "output_type": "stream",
     "text": [
      "\r",
      " 90%|█████████ | 9/10 [00:43<00:06,  6.36s/it]"
     ]
    },
    {
     "name": "stdout",
     "output_type": "stream",
     "text": [
      "10 3.3 240.0\n",
      "11 1.2 400.0\n",
      "11 1.3 240.0\n",
      "11 2.2 400.0\n",
      "11 2.3 360.0\n",
      "11 3.2 360.0\n"
     ]
    },
    {
     "name": "stderr",
     "output_type": "stream",
     "text": [
      "100%|██████████| 10/10 [00:50<00:00,  5.08s/it]"
     ]
    },
    {
     "name": "stdout",
     "output_type": "stream",
     "text": [
      "11 3.3 160.0\n"
     ]
    },
    {
     "name": "stderr",
     "output_type": "stream",
     "text": [
      "\n"
     ]
    }
   ],
   "source": [
    "out = {}\n",
    "for wk, results in tqdm(btTable.groupby('week')):\n",
    "    if wk < 5.0: \n",
    "        continue\n",
    "    out[wk] = {}\n",
    "    for num_teams_to_stack in [1,2,3]:\n",
    "        for num_players_in_stack in [2,3]:\n",
    "            x = np.array([num_teams_to_stack, num_players_in_stack])\n",
    "            key = \".\".join([str(i) for i in x]) \n",
    "            out[wk][key] = run_doubleup_backtest(x,results, doubleupStandings.table.copy())\n",
    "            print(wk, key, out[wk][key])"
   ]
  },
  {
   "cell_type": "code",
   "execution_count": 37,
   "metadata": {},
   "outputs": [
    {
     "data": {
      "image/png": "[encoded data removed]",
      "text/plain": [
       "<Figure size 864x576 with 1 Axes>"
      ]
     },
     "metadata": {
      "needs_background": "light"
     },
     "output_type": "display_data"
    }
   ],
   "source": [
    "import pandas as pd\n",
    "import matplotlib.pyplot as plt\n",
    "pd.DataFrame(out).T.cumsum().plot(figsize=(12,8), title='Double Up Game - Cummulative Profit [Number Team Stacks.Players In Each Stack]')\n",
    "plt.grid(True)"
   ]
  }
 ],
 "metadata": {
  "kernelspec": {
   "display_name": "Python 3",
   "language": "python",
   "name": "python3"
  },
  "language_info": {
   "codemirror_mode": {
    "name": "ipython",
    "version": 3
   },
   "file_extension": ".py",
   "mimetype": "text/x-python",
   "name": "python",
   "nbconvert_exporter": "python",
   "pygments_lexer": "ipython3",
   "version": "3.8.5"
  }
 },
 "nbformat": 4,
 "nbformat_minor": 4
}
